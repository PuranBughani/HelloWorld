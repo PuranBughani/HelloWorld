{
 "cells": [
  {
   "cell_type": "code",
   "execution_count": 9,
   "id": "68508733",
   "metadata": {},
   "outputs": [
    {
     "name": "stdout",
     "output_type": "stream",
     "text": [
      "Hello World\n",
      "Sum of 2 + 5 = 7\n"
     ]
    }
   ],
   "source": [
    "#import numpy as np \n",
    "#import pandas as pd\n",
    "\n",
    "print(\"Hello World\")\n",
    "a=2\n",
    "b=5\n",
    "print(\"Sum of\", a,\"+\", b , \"=\", a+b)"
   ]
  },
  {
   "cell_type": "code",
   "execution_count": null,
   "id": "c427644a",
   "metadata": {},
   "outputs": [],
   "source": []
  }
 ],
 "metadata": {
  "kernelspec": {
   "display_name": "Python 3",
   "language": "python",
   "name": "python3"
  },
  "language_info": {
   "codemirror_mode": {
    "name": "ipython",
    "version": 3
   },
   "file_extension": ".py",
   "mimetype": "text/x-python",
   "name": "python",
   "nbconvert_exporter": "python",
   "pygments_lexer": "ipython3",
   "version": "3.8.8"
  }
 },
 "nbformat": 4,
 "nbformat_minor": 5
}
